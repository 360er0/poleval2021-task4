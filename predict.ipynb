{
 "cells": [
  {
   "cell_type": "code",
   "execution_count": null,
   "metadata": {},
   "outputs": [],
   "source": [
    "import os\n",
    "import pickle\n",
    "\n",
    "import numpy as np\n",
    "import pandas as pd\n",
    "from simpletransformers.t5 import T5Model\n",
    "from sentence_transformers import SentenceTransformer"
   ]
  },
  {
   "cell_type": "code",
   "execution_count": null,
   "metadata": {},
   "outputs": [],
   "source": [
    "questions = [\n",
    "    'W którym roku odbyła się bitwa pod Grunwaldem?',\n",
    "    'Jaka jest stolica Polski?',\n",
    "]"
   ]
  },
  {
   "cell_type": "markdown",
   "metadata": {},
   "source": [
    "## Retrieve Passages"
   ]
  },
  {
   "cell_type": "code",
   "execution_count": null,
   "metadata": {},
   "outputs": [],
   "source": [
    "def encode_texts(texts, encoder):\n",
    "    emb = encoder.encode(texts, convert_to_numpy=True)\n",
    "    emb = emb / np.sqrt(np.sum(emb**2, axis=1, keepdims=True))\n",
    "    return emb\n",
    "\n",
    "def retrieve_passages(questions, passages, encoder, max_passage_len=300, n_candidates=10):\n",
    "    \n",
    "    encoded_passages = np.vstack([p['emb'] for p in passages])\n",
    "    encoded_questions = encode_texts(questions, encoder)\n",
    "\n",
    "    candidates = []\n",
    "    for qid, q in enumerate(questions):\n",
    "        scores = np.inner(encoded_questions[qid], encoded_passages)\n",
    "        unsorted_ranks = np.argpartition(scores, -n_candidates)[-n_candidates:]\n",
    "        ranks = [e[1] for e in sorted(zip(scores[unsorted_ranks], unsorted_ranks), reverse=True)]\n",
    "\n",
    "        context = []\n",
    "        for rank, aid in enumerate(ranks):\n",
    "            aid = int(aid)\n",
    "            context.append(f\"{passages[aid]['title']}: {passages[aid]['text'][:max_passage_len]}\")\n",
    "        candidates.append(context)\n",
    "\n",
    "    return candidates"
   ]
  },
  {
   "cell_type": "code",
   "execution_count": null,
   "metadata": {},
   "outputs": [],
   "source": [
    "encoder = SentenceTransformer('piotr-rybak/poleval2021-task4-herbert-large-encoder')\n",
    "\n",
    "passages = []\n",
    "for file in os.listdir('../passages/'):\n",
    "    if file.endswith('.pkl'):\n",
    "        with open('../passages/' + file, 'rb') as f:\n",
    "            passages += pickle.load(f)\n",
    "\n",
    "candidates = retrieve_passages(questions, passages, encoder)"
   ]
  },
  {
   "cell_type": "markdown",
   "metadata": {},
   "source": [
    "## Generate Answer"
   ]
  },
  {
   "cell_type": "code",
   "execution_count": null,
   "metadata": {},
   "outputs": [],
   "source": [
    "def prepare_input(questions, candidates):\n",
    "    return [f\"Pytanie: {q} | Kontekst: {' | '.join(c)}\" for q, c in zip(questions, candidates)]"
   ]
  },
  {
   "cell_type": "code",
   "execution_count": null,
   "metadata": {},
   "outputs": [],
   "source": [
    "model = T5Model('t5', 'piotr-rybak/poleval2021-task4-plt5-base-qa', use_cuda=False)\n",
    "\n",
    "input_text = prepare_input(questions, candidates)\n",
    "model.predict(input_text)"
   ]
  },
  {
   "cell_type": "code",
   "execution_count": null,
   "metadata": {},
   "outputs": [],
   "source": []
  }
 ],
 "metadata": {
  "kernelspec": {
   "display_name": "Python 3",
   "language": "python",
   "name": "python3"
  },
  "language_info": {
   "codemirror_mode": {
    "name": "ipython",
    "version": 3
   },
   "file_extension": ".py",
   "mimetype": "text/x-python",
   "name": "python",
   "nbconvert_exporter": "python",
   "pygments_lexer": "ipython3",
   "version": "3.7.7"
  }
 },
 "nbformat": 4,
 "nbformat_minor": 4
}
